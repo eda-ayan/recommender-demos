{
  "cells": [
    {
      "cell_type": "code",
      "source": [
        "from azure.cognitiveservices.personalizer import PersonalizerClient\r\n",
        "from azure.cognitiveservices.personalizer.models import RankableAction, RewardRequest, RankRequest\r\n",
        "from msrest.authentication import CognitiveServicesCredentials\r\n",
        "\r\n",
        "import datetime, json, os, time, uuid\r\n",
        "\r\n",
        "key = \"<your_subscription_key>\"\r\n",
        "endpoint = \"<your_endpoint>\""
      ],
      "outputs": [],
      "execution_count": 12,
      "metadata": {
        "jupyter": {
          "source_hidden": false,
          "outputs_hidden": false
        },
        "nteract": {
          "transient": {
            "deleting": false
          }
        },
        "gather": {
          "logged": 1634737819348
        }
      }
    },
    {
      "cell_type": "code",
      "source": [
        "# Instantiate a Personalizer client\r\n",
        "client = PersonalizerClient(endpoint, CognitiveServicesCredentials(key))"
      ],
      "outputs": [],
      "execution_count": 13,
      "metadata": {
        "jupyter": {
          "source_hidden": false,
          "outputs_hidden": false
        },
        "nteract": {
          "transient": {
            "deleting": false
          }
        },
        "gather": {
          "logged": 1634737820949
        }
      }
    },
    {
      "cell_type": "code",
      "source": [
        "def get_actions():\r\n",
        "    action1 = RankableAction(id='pasta', features=[{\"taste\":\"salty\", \"spice_level\":\"medium\"},{\"nutrition_level\":5,\"cuisine\":\"italian\"}])\r\n",
        "    action2 = RankableAction(id='ice cream', features=[{\"taste\":\"sweet\", \"spice_level\":\"none\"}, { \"nutritional_level\": 2 }])\r\n",
        "    action3 = RankableAction(id='juice', features=[{\"taste\":\"sweet\", 'spice_level':'none'}, {'nutritional_level': 5}, {'drink':True}])\r\n",
        "    action4 = RankableAction(id='salad', features=[{'taste':'salty', 'spice_level':'none'},{'nutritional_level': 2}])\r\n",
        "    return [action1, action2, action3, action4]"
      ],
      "outputs": [],
      "execution_count": 14,
      "metadata": {
        "jupyter": {
          "source_hidden": false,
          "outputs_hidden": false
        },
        "nteract": {
          "transient": {
            "deleting": false
          }
        },
        "gather": {
          "logged": 1634737822932
        }
      }
    },
    {
      "cell_type": "code",
      "source": [
        "def get_user_timeofday():\r\n",
        "    res={}\r\n",
        "    time_features = [\"morning\", \"afternoon\", \"evening\", \"night\"]\r\n",
        "    time = input(\"What time of day is it (enter number)? 1. morning 2. afternoon 3. evening 4. night\\n\")\r\n",
        "    try:\r\n",
        "        ptime = int(time)\r\n",
        "        if(ptime<=0 or ptime>len(time_features)):\r\n",
        "            raise IndexError\r\n",
        "        res['time_of_day'] = time_features[ptime-1]\r\n",
        "    except (ValueError, IndexError):\r\n",
        "        print(\"Entered value is invalid. Setting feature value to\", time_features[0] + \".\")\r\n",
        "        res['time_of_day'] = time_features[0]\r\n",
        "    return res"
      ],
      "outputs": [],
      "execution_count": 15,
      "metadata": {
        "jupyter": {
          "source_hidden": false,
          "outputs_hidden": false
        },
        "nteract": {
          "transient": {
            "deleting": false
          }
        },
        "gather": {
          "logged": 1634737823908
        }
      }
    },
    {
      "cell_type": "code",
      "source": [
        "def get_user_preference():\r\n",
        "    res = {}\r\n",
        "    taste_features = ['salty','sweet']\r\n",
        "    pref = input(\"What type of food would you prefer? Enter number 1.salty 2.sweet\\n\")\r\n",
        "    \r\n",
        "    try:\r\n",
        "        ppref = int(pref)\r\n",
        "        if(ppref<=0 or ppref>len(taste_features)):\r\n",
        "            raise IndexError\r\n",
        "        res['taste_preference'] = taste_features[ppref-1]\r\n",
        "    except (ValueError, IndexError):\r\n",
        "        print(\"Entered value is invalid. Setting feature value to\", taste_features[0]+ \".\")\r\n",
        "        res['taste_preference'] = taste_features[0]\r\n",
        "    return res"
      ],
      "outputs": [],
      "execution_count": 16,
      "metadata": {
        "jupyter": {
          "source_hidden": false,
          "outputs_hidden": false
        },
        "nteract": {
          "transient": {
            "deleting": false
          }
        },
        "gather": {
          "logged": 1634737825911
        }
      }
    },
    {
      "cell_type": "code",
      "source": [
        "keep_going = True\r\n",
        "while keep_going:\r\n",
        "\r\n",
        "    eventid = str(uuid.uuid4())\r\n",
        "\r\n",
        "    context = [get_user_preference(), get_user_timeofday()]\r\n",
        "    actions = get_actions()\r\n",
        "\r\n",
        "    rank_request = RankRequest( actions=actions, context_features=context, event_id=eventid)\r\n",
        "    response = client.rank(rank_request=rank_request)\r\n",
        "    \r\n",
        "    print(\"Personalizer service ranked the actions with the probabilities listed below:\")\r\n",
        "    \r\n",
        "    rankedList = response.ranking\r\n",
        "    for ranked in rankedList:\r\n",
        "        print(ranked.id, ':',ranked.probability)\r\n",
        "\r\n",
        "    print(\"Personalizer thinks you would like to have\", response.reward_action_id+\".\")\r\n",
        "    answer = input(\"Is this correct?(y/n)\\n\")[0]\r\n",
        "\r\n",
        "    reward_val = \"0.0\"\r\n",
        "    if(answer.lower()=='y'):\r\n",
        "        reward_val = \"1.0\"\r\n",
        "    elif(answer.lower()=='n'):\r\n",
        "        reward_val = \"0.0\"\r\n",
        "    else:\r\n",
        "        print(\"Entered choice is invalid. Service assumes that you didn't like the recommended food choice.\")\r\n",
        "\r\n",
        "    client.events.reward(event_id=eventid, value=reward_val)\r\n",
        "\r\n",
        "    br = input(\"Press Q to exit, any other key to continue: \")\r\n",
        "    if(br.lower()=='q'):\r\n",
        "        keep_going = False"
      ],
      "outputs": [
        {
          "output_type": "stream",
          "name": "stdout",
          "text": "Personalizer service ranked the actions with the probabilities listed below:\njuice : 0.25\nice cream : 0.25\npasta : 0.25\nsalad : 0.25\nPersonalizer thinks you would like to have juice.\nPersonalizer service ranked the actions with the probabilities listed below:\npasta : 0.25\nice cream : 0.25\njuice : 0.25\nsalad : 0.25\nPersonalizer thinks you would like to have pasta.\nPersonalizer service ranked the actions with the probabilities listed below:\njuice : 0.25\nice cream : 0.25\npasta : 0.25\nsalad : 0.25\nPersonalizer thinks you would like to have juice.\n"
        }
      ],
      "execution_count": 19,
      "metadata": {
        "jupyter": {
          "source_hidden": false,
          "outputs_hidden": false
        },
        "nteract": {
          "transient": {
            "deleting": false
          }
        },
        "gather": {
          "logged": 1634745126041
        }
      }
    }
  ],
  "metadata": {
    "kernelspec": {
      "name": "python3-azureml",
      "language": "python",
      "display_name": "Python 3.6 - AzureML"
    },
    "language_info": {
      "name": "python",
      "version": "3.6.9",
      "mimetype": "text/x-python",
      "codemirror_mode": {
        "name": "ipython",
        "version": 3
      },
      "pygments_lexer": "ipython3",
      "nbconvert_exporter": "python",
      "file_extension": ".py"
    },
    "kernel_info": {
      "name": "python3-azureml"
    },
    "microsoft": {
      "host": {
        "AzureML": {
          "notebookHasBeenCompleted": true
        }
      }
    },
    "nteract": {
      "version": "nteract-front-end@1.0.0"
    }
  },
  "nbformat": 4,
  "nbformat_minor": 2
}