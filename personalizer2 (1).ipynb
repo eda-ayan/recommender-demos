{
  "cells": [
    {
      "cell_type": "markdown",
      "source": [
        "Tutorial link: https://docs.microsoft.com/en-us/azure/cognitive-services/personalizer/tutorial-use-azure-notebook-generate-loop-data"
      ],
      "metadata": {
        "nteract": {
          "transient": {
            "deleting": false
          }
        }
      }
    },
    {
      "cell_type": "code",
      "source": [
        "import json\r\n",
        "import matplotlib.pyplot as plt\r\n",
        "import random\r\n",
        "import requests\r\n",
        "import time\r\n",
        "import uuid"
      ],
      "outputs": [],
      "execution_count": 43,
      "metadata": {
        "gather": {
          "logged": 1634800680628
        }
      }
    },
    {
      "cell_type": "code",
      "source": [
        "# Replace 'personalization_base_url' and 'resource_key' with your valid endpoint values.\r\n",
        "personalization_base_url = \"https://personalizereda.cognitiveservices.azure.com/\"\r\n",
        "resource_key = \"df6810a7f8fe458eb933077da7e6ab50\"\r\n"
      ],
      "outputs": [],
      "execution_count": 44,
      "metadata": {
        "jupyter": {
          "source_hidden": false,
          "outputs_hidden": false
        },
        "nteract": {
          "transient": {
            "deleting": false
          }
        },
        "gather": {
          "logged": 1634800682540
        }
      }
    },
    {
      "cell_type": "code",
      "source": [
        "# Print out current datetime\r\n",
        "def currentDateTime():\r\n",
        "    currentDT = datetime.datetime.now()\r\n",
        "    print (str(currentDT))"
      ],
      "outputs": [],
      "execution_count": 45,
      "metadata": {
        "jupyter": {
          "source_hidden": false,
          "outputs_hidden": false
        },
        "nteract": {
          "transient": {
            "deleting": false
          }
        },
        "gather": {
          "logged": 1634800685627
        }
      }
    },
    {
      "cell_type": "code",
      "source": [
        "# ititialize variable for model's last modified date\r\n",
        "modelLastModified = \"\""
      ],
      "outputs": [],
      "execution_count": 46,
      "metadata": {
        "jupyter": {
          "source_hidden": false,
          "outputs_hidden": false
        },
        "nteract": {
          "transient": {
            "deleting": false
          }
        },
        "gather": {
          "logged": 1634800686658
        }
      }
    },
    {
      "cell_type": "code",
      "source": [
        "def get_last_updated(currentModifiedDate):\r\n",
        "\r\n",
        "    print('-----checking model')\r\n",
        "\r\n",
        "    # get model properties\r\n",
        "    response = requests.get(personalization_model_properties_url, headers = headers, params = None)\r\n",
        "\r\n",
        "    print(response)\r\n",
        "    print(response.json())\r\n",
        "\r\n",
        "    # get lastModifiedTime\r\n",
        "    lastModifiedTime = json.dumps(response.json()[\"lastModifiedTime\"])\r\n",
        "\r\n",
        "    if (currentModifiedDate != lastModifiedTime):\r\n",
        "        currentModifiedDate = lastModifiedTime\r\n",
        "        print(f'-----model updated: {lastModifiedTime}')"
      ],
      "outputs": [],
      "execution_count": 47,
      "metadata": {
        "jupyter": {
          "source_hidden": false,
          "outputs_hidden": false
        },
        "nteract": {
          "transient": {
            "deleting": false
          }
        },
        "gather": {
          "logged": 1634800689371
        }
      }
    },
    {
      "cell_type": "code",
      "source": [
        "def get_service_settings():\r\n",
        "\r\n",
        "    print('-----checking service settings')\r\n",
        "\r\n",
        "    # get learning policy\r\n",
        "    response = requests.get(personalization_model_policy_url, headers = headers, params = None)\r\n",
        "\r\n",
        "    print(response)\r\n",
        "    print(response.json())\r\n",
        "\r\n",
        "    # get service settings\r\n",
        "    response = requests.get(personalization_service_configuration_url, headers = headers, params = None)\r\n",
        "\r\n",
        "    print(response)\r\n",
        "    print(response.json())"
      ],
      "outputs": [],
      "execution_count": 48,
      "metadata": {
        "jupyter": {
          "source_hidden": false,
          "outputs_hidden": false
        },
        "nteract": {
          "transient": {
            "deleting": false
          }
        },
        "gather": {
          "logged": 1634800691459
        }
      }
    },
    {
      "cell_type": "code",
      "source": [
        "# build URLs\r\n",
        "personalization_rank_url = personalization_base_url + \"personalizer/v1.0/rank\"\r\n",
        "personalization_reward_url = personalization_base_url + \"personalizer/v1.0/events/\" #add \"{eventId}/reward\"\r\n",
        "personalization_model_properties_url = personalization_base_url + \"personalizer/v1.0/model/properties\"\r\n",
        "personalization_model_policy_url = personalization_base_url + \"personalizer/v1.0/configurations/policy\"\r\n",
        "personalization_service_configuration_url = personalization_base_url + \"personalizer/v1.0/configurations/service\"\r\n",
        "\r\n",
        "headers = {'Ocp-Apim-Subscription-Key' : resource_key, 'Content-Type': 'application/json'}\r\n",
        "\r\n",
        "# context\r\n",
        "users = \"users.json\"\r\n",
        "\r\n",
        "# action features\r\n",
        "coffee = \"coffee.json\"\r\n",
        "\r\n",
        "# empty JSON for Rank request\r\n",
        "requestpath = \"example-rankrequest.json\"\r\n",
        "\r\n",
        "# initialize random\r\n",
        "random.seed(time.time())\r\n",
        "\r\n",
        "userpref = None\r\n",
        "rankactionsjsonobj = None\r\n",
        "actionfeaturesobj = None\r\n",
        "\r\n",
        "with open(users) as handle:\r\n",
        "    userpref = json.loads(handle.read())\r\n",
        "\r\n",
        "with open(coffee) as handle:\r\n",
        "    actionfeaturesobj = json.loads(handle.read())\r\n",
        "\r\n",
        "with open(requestpath) as handle:\r\n",
        "    rankactionsjsonobj = json.loads(handle.read())\r\n",
        "\r\n",
        "get_last_updated(modelLastModified)\r\n",
        "get_service_settings()\r\n",
        "\r\n",
        "print(f'User count {len(userpref)}')\r\n",
        "print(f'Coffee count {len(actionfeaturesobj)}')"
      ],
      "outputs": [
        {
          "output_type": "stream",
          "name": "stdout",
          "text": "-----checking model\n<Response [200]>\n{'creationTime': '2021-10-20T11:38:53+00:00', 'lastModifiedTime': '2021-10-20T17:00:55+00:00'}\n-----model updated: \"2021-10-20T17:00:55+00:00\"\n-----checking service settings\n<Response [200]>\n{'name': 'bba2eb0af3dc442783ea6abbf4652d18', 'arguments': '--cb_explore_adf --epsilon 0.2 --power_t 0 -l 0.001 --cb_type mtr -q ::'}\n<Response [200]>\n{'rewardWaitTime': 'PT10M', 'defaultReward': 0.0, 'rewardAggregation': 'earliest', 'explorationPercentage': 0.2, 'modelExportFrequency': 'PT10S', 'logRetentionDays': 90, 'lastConfigurationEditDate': '2021-10-20T14:05:53', 'learningMode': 'Online'}\nUser count 4\nCoffee count 4\n"
        }
      ],
      "execution_count": 49,
      "metadata": {
        "jupyter": {
          "source_hidden": false,
          "outputs_hidden": false
        },
        "nteract": {
          "transient": {
            "deleting": false
          }
        },
        "gather": {
          "logged": 1634800695456
        }
      }
    },
    {
      "cell_type": "code",
      "source": [
        "def add_event_id(rankjsonobj):\r\n",
        "    eventid = uuid.uuid4().hex\r\n",
        "    rankjsonobj[\"eventId\"] = eventid\r\n",
        "    return eventid"
      ],
      "outputs": [],
      "execution_count": 50,
      "metadata": {
        "jupyter": {
          "source_hidden": false,
          "outputs_hidden": false
        },
        "nteract": {
          "transient": {
            "deleting": false
          }
        },
        "gather": {
          "logged": 1634800700340
        }
      }
    },
    {
      "cell_type": "code",
      "source": [
        "def add_random_user_and_contextfeatures(namesoption, weatheropt, timeofdayopt, rankjsonobj):\r\n",
        "    name = namesoption[random.randint(0,3)]\r\n",
        "    weather = weatheropt[random.randint(0,2)]\r\n",
        "    timeofday = timeofdayopt[random.randint(0,2)]\r\n",
        "    rankjsonobj['contextFeatures'] = [{'timeofday': timeofday, 'weather': weather, 'name': name}]\r\n",
        "    return [name, weather, timeofday]"
      ],
      "outputs": [],
      "execution_count": 51,
      "metadata": {
        "jupyter": {
          "source_hidden": false,
          "outputs_hidden": false
        },
        "nteract": {
          "transient": {
            "deleting": false
          }
        },
        "gather": {
          "logged": 1634800702438
        }
      }
    },
    {
      "cell_type": "code",
      "source": [
        "def get_reward_from_simulated_data(name, weather, timeofday, prediction):\r\n",
        "    if(userpref[name][weather][timeofday] == str(prediction)):\r\n",
        "        return 1\r\n",
        "    return 0"
      ],
      "outputs": [],
      "execution_count": 52,
      "metadata": {
        "jupyter": {
          "source_hidden": false,
          "outputs_hidden": false
        },
        "nteract": {
          "transient": {
            "deleting": false
          }
        },
        "gather": {
          "logged": 1634800703357
        }
      }
    },
    {
      "cell_type": "code",
      "source": [
        "def add_action_features(rankjsonobj):\r\n",
        "    rankjsonobj[\"actions\"] = actionfeaturesobj"
      ],
      "outputs": [],
      "execution_count": 53,
      "metadata": {
        "jupyter": {
          "source_hidden": false,
          "outputs_hidden": false
        },
        "nteract": {
          "transient": {
            "deleting": false
          }
        },
        "gather": {
          "logged": 1634800705308
        }
      }
    },
    {
      "cell_type": "code",
      "source": [
        "def iterations(n, modelCheck, jsonFormat):\r\n",
        "\r\n",
        "    i = 1\r\n",
        "\r\n",
        "    # default reward value - assumes failed prediction\r\n",
        "    reward = 0\r\n",
        "\r\n",
        "    # Print out dateTime\r\n",
        "    currentDateTime()\r\n",
        "\r\n",
        "    # collect results to aggregate in graph\r\n",
        "    total = 0\r\n",
        "    rewards = []\r\n",
        "    count = []\r\n",
        "\r\n",
        "    # default list of user, weather, time of day\r\n",
        "    namesopt = ['Alice', 'Bob', 'Cathy', 'Dave']\r\n",
        "    weatheropt = ['Sunny', 'Rainy', 'Snowy']\r\n",
        "    timeofdayopt = ['Morning', 'Afternoon', 'Evening']\r\n",
        "\r\n",
        "\r\n",
        "    while(i <= n):\r\n",
        "\r\n",
        "        # create unique id to associate with an event\r\n",
        "        eventid = add_event_id(jsonFormat)\r\n",
        "\r\n",
        "        # generate a random sample\r\n",
        "        [name, weather, timeofday] = add_random_user_and_contextfeatures(namesopt, weatheropt, timeofdayopt, jsonFormat)\r\n",
        "\r\n",
        "        # add action features to rank\r\n",
        "        add_action_features(jsonFormat)\r\n",
        "\r\n",
        "        # show JSON to send to Rank\r\n",
        "        print('To: ', jsonFormat)\r\n",
        "\r\n",
        "        # choose an action - get prediction from Personalizer\r\n",
        "        response = requests.post(personalization_rank_url, headers = headers, params = None, json = jsonFormat)\r\n",
        "\r\n",
        "        # show Rank prediction\r\n",
        "        print ('From: ',response.json())\r\n",
        "\r\n",
        "        # compare personalization service recommendation with the simulated data to generate a reward value\r\n",
        "        prediction = json.dumps(response.json()[\"rewardActionId\"]).replace('\"','')\r\n",
        "        reward = get_reward_from_simulated_data(name, weather, timeofday, prediction)\r\n",
        "\r\n",
        "        # show result for iteration\r\n",
        "        print(f'   {i} {currentDateTime()} {name} {weather} {timeofday} {prediction} {reward}')\r\n",
        "\r\n",
        "        # send the reward to the service\r\n",
        "        response = requests.post(personalization_reward_url + eventid + \"/reward\", headers = headers, params= None, json = { \"value\" : reward })\r\n",
        "\r\n",
        "        # for every N rank requests, compute total correct  total\r\n",
        "        total =  total + reward\r\n",
        "\r\n",
        "        # every N iteration, get last updated model date and time\r\n",
        "        if(i % modelCheck == 0):\r\n",
        "\r\n",
        "            print(\"**** 10% of loop found\")\r\n",
        "\r\n",
        "            get_last_updated(modelLastModified)\r\n",
        "\r\n",
        "        # aggregate so chart is easier to read\r\n",
        "        if(i % 10 == 0):\r\n",
        "            rewards.append( total)\r\n",
        "            count.append(i)\r\n",
        "            total = 0\r\n",
        "\r\n",
        "        i = i + 1\r\n",
        "\r\n",
        "    # Print out dateTime\r\n",
        "    currentDateTime()\r\n",
        "\r\n",
        "    return [count, rewards]"
      ],
      "outputs": [],
      "execution_count": 54,
      "metadata": {
        "jupyter": {
          "source_hidden": false,
          "outputs_hidden": false
        },
        "nteract": {
          "transient": {
            "deleting": false
          }
        },
        "gather": {
          "logged": 1634800716539
        }
      }
    },
    {
      "cell_type": "code",
      "source": [
        "import datetime\r\n",
        "# max iterations\r\n",
        "num_requests = 10000\r\n",
        "\r\n",
        "# check last mod date N% of time - currently 10%\r\n",
        "lastModCheck = int(num_requests * .10)\r\n",
        "\r\n",
        "jsonTemplate = rankactionsjsonobj\r\n",
        "\r\n",
        "# main iterations\r\n",
        "[count, rewards] = iterations(num_requests, lastModCheck, jsonTemplate)"
      ],
      "outputs": [],
      "execution_count": null,
      "metadata": {
        "jupyter": {
          "source_hidden": false,
          "outputs_hidden": false
        },
        "nteract": {
          "transient": {
            "deleting": false
          }
        }
      }
    },
    {
      "cell_type": "code",
      "source": [
        "def createChart(x, y):\r\n",
        "    plt.plot(x, y)\r\n",
        "    plt.xlabel(\"Batch of rank events\")\r\n",
        "    plt.ylabel(\"Correct recommendations per batch\")\r\n",
        "    plt.show()"
      ],
      "outputs": [],
      "execution_count": 56,
      "metadata": {
        "jupyter": {
          "source_hidden": false,
          "outputs_hidden": false
        },
        "nteract": {
          "transient": {
            "deleting": false
          }
        },
        "gather": {
          "logged": 1634802877313
        }
      }
    },
    {
      "cell_type": "code",
      "source": [
        "createChart(count,rewards)"
      ],
      "outputs": [],
      "execution_count": null,
      "metadata": {
        "jupyter": {
          "source_hidden": false,
          "outputs_hidden": false
        },
        "nteract": {
          "transient": {
            "deleting": false
          }
        },
        "gather": {
          "logged": 1634802883148
        }
      }
    },
    {
      "cell_type": "code",
      "source": [
        "#Verify new learning policy and times\r\n",
        "get_service_settings()"
      ],
      "outputs": [
        {
          "output_type": "stream",
          "name": "stdout",
          "text": "-----checking service settings\n<Response [200]>\n{'name': 'bba2eb0af3dc442783ea6abbf4652d18', 'arguments': '--cb_explore_adf --epsilon 0.2 --power_t 0 -l 0.001 --cb_type mtr -q ::'}\n<Response [200]>\n{'rewardWaitTime': 'PT10M', 'defaultReward': 0.0, 'rewardAggregation': 'earliest', 'explorationPercentage': 0.2, 'modelExportFrequency': 'PT10S', 'logRetentionDays': 90, 'lastConfigurationEditDate': '2021-10-20T14:05:53', 'learningMode': 'Online'}\n"
        }
      ],
      "execution_count": 58,
      "metadata": {
        "jupyter": {
          "source_hidden": false,
          "outputs_hidden": false
        },
        "nteract": {
          "transient": {
            "deleting": false
          }
        },
        "gather": {
          "logged": 1634802888102
        }
      }
    },
    {
      "cell_type": "code",
      "source": [
        "# max iterations\r\n",
        "num_requests = 2000\r\n",
        "\r\n",
        "# check last mod date N% of time - currently 10%\r\n",
        "lastModCheck2 = int(num_requests * .10)\r\n",
        "\r\n",
        "jsonTemplate2 = rankactionsjsonobj\r\n",
        "\r\n",
        "# main iterations\r\n",
        "[count2, rewards2] = iterations(num_requests, lastModCheck2, jsonTemplate)"
      ],
      "outputs": [],
      "execution_count": null,
      "metadata": {
        "jupyter": {
          "source_hidden": false,
          "outputs_hidden": false
        },
        "nteract": {
          "transient": {
            "deleting": false
          }
        },
        "gather": {
          "logged": 1634739279301
        }
      }
    },
    {
      "cell_type": "code",
      "source": [
        "createChart(count2,rewards2)"
      ],
      "outputs": [],
      "execution_count": null,
      "metadata": {
        "jupyter": {
          "source_hidden": false,
          "outputs_hidden": false
        },
        "nteract": {
          "transient": {
            "deleting": false
          }
        },
        "gather": {
          "logged": 1634739279615
        }
      }
    }
  ],
  "metadata": {
    "kernelspec": {
      "name": "python3-azureml",
      "language": "python",
      "display_name": "Python 3.6 - AzureML"
    },
    "language_info": {
      "name": "python",
      "version": "3.6.9",
      "mimetype": "text/x-python",
      "codemirror_mode": {
        "name": "ipython",
        "version": 3
      },
      "pygments_lexer": "ipython3",
      "nbconvert_exporter": "python",
      "file_extension": ".py"
    },
    "microsoft": {
      "host": {
        "AzureML": {
          "notebookHasBeenCompleted": true
        }
      }
    },
    "nteract": {
      "version": "nteract-front-end@1.0.0"
    },
    "kernel_info": {
      "name": "python3-azureml"
    }
  },
  "nbformat": 4,
  "nbformat_minor": 2
}