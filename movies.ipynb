{
  "cells": [
    {
      "cell_type": "markdown",
      "source": [
        "Get data"
      ],
      "metadata": {
        "nteract": {
          "transient": {
            "deleting": false
          }
        }
      }
    },
    {
      "cell_type": "code",
      "source": [
        "import pandas as pd\r\n",
        "from surprise import Reader, Dataset, SVD\r\n",
        "from surprise.model_selection import cross_validate\r\n",
        "import mlflow\r\n",
        "import numpy as np\r\n",
        "from azureml.core import Workspace\r\n",
        "\r\n",
        "reader = Reader()\r\n",
        "ratings = pd.read_csv('<location_of_ratings.csv>')\r\n",
        "ratings.head()"
      ],
      "outputs": [
        {
          "output_type": "execute_result",
          "execution_count": 2,
          "data": {
            "text/plain": "   userId  movieId  rating   timestamp\n0       1       31     2.5  1260759144\n1       1     1029     3.0  1260759179\n2       1     1061     3.0  1260759182\n3       1     1129     2.0  1260759185\n4       1     1172     4.0  1260759205",
            "text/html": "<div>\n<style scoped>\n    .dataframe tbody tr th:only-of-type {\n        vertical-align: middle;\n    }\n\n    .dataframe tbody tr th {\n        vertical-align: top;\n    }\n\n    .dataframe thead th {\n        text-align: right;\n    }\n</style>\n<table border=\"1\" class=\"dataframe\">\n  <thead>\n    <tr style=\"text-align: right;\">\n      <th></th>\n      <th>userId</th>\n      <th>movieId</th>\n      <th>rating</th>\n      <th>timestamp</th>\n    </tr>\n  </thead>\n  <tbody>\n    <tr>\n      <th>0</th>\n      <td>1</td>\n      <td>31</td>\n      <td>2.5</td>\n      <td>1260759144</td>\n    </tr>\n    <tr>\n      <th>1</th>\n      <td>1</td>\n      <td>1029</td>\n      <td>3.0</td>\n      <td>1260759179</td>\n    </tr>\n    <tr>\n      <th>2</th>\n      <td>1</td>\n      <td>1061</td>\n      <td>3.0</td>\n      <td>1260759182</td>\n    </tr>\n    <tr>\n      <th>3</th>\n      <td>1</td>\n      <td>1129</td>\n      <td>2.0</td>\n      <td>1260759185</td>\n    </tr>\n    <tr>\n      <th>4</th>\n      <td>1</td>\n      <td>1172</td>\n      <td>4.0</td>\n      <td>1260759205</td>\n    </tr>\n  </tbody>\n</table>\n</div>"
          },
          "metadata": {}
        }
      ],
      "execution_count": 2,
      "metadata": {
        "gather": {
          "logged": 1634728922169
        }
      }
    },
    {
      "cell_type": "markdown",
      "source": [
        "Connect Azureml and logging"
      ],
      "metadata": {
        "nteract": {
          "transient": {
            "deleting": false
          }
        }
      }
    },
    {
      "cell_type": "code",
      "source": [
        "ws = Workspace(subscription_id=\"<your_subscription_key>\",\r\n",
        "               resource_group=\"<your_resource_group_name>\",\r\n",
        "               workspace_name=\"ml_workspace\")\r\n",
        "\r\n",
        "experiment_name = \"movies\"\r\n",
        "\r\n",
        "mlflow.set_tracking_uri(ws.get_mlflow_tracking_uri())\r\n",
        "mlflow.set_experiment(experiment_name)\r\n",
        "mlflow.autolog()"
      ],
      "outputs": [
        {
          "output_type": "stream",
          "name": "stderr",
          "text": "2021/10/20 11:22:06 INFO mlflow.pyspark.ml: No SparkSession detected. Autologging will log pyspark.ml models contained in the default allowlist. To specify a custom allowlist, initialize a SparkSession prior to calling mlflow.pyspark.ml.autolog() and specify the path to your allowlist file via the spark.mlflow.pysparkml.autolog.logModelAllowlistFile conf.\n"
        }
      ],
      "execution_count": 3,
      "metadata": {
        "jupyter": {
          "source_hidden": false,
          "outputs_hidden": false
        },
        "nteract": {
          "transient": {
            "deleting": false
          }
        },
        "gather": {
          "logged": 1634728927033
        }
      }
    },
    {
      "cell_type": "markdown",
      "source": [
        "Register the dataset"
      ],
      "metadata": {
        "nteract": {
          "transient": {
            "deleting": false
          }
        }
      }
    },
    {
      "cell_type": "code",
      "source": [
        "from azureml.core import Dataset\r\n",
        "\r\n",
        "np.savetxt('ratings.csv', ratings, delimiter=',')\r\n",
        "datastore = ws.get_default_datastore()\r\n",
        "datastore.upload_files(files=[\"ratings.csv\"],\r\n",
        "                       target_path='movie_rating_data/',\r\n",
        "                       overwrite=True)\r\n",
        "\r\n",
        "input_dataset = Dataset.Tabular.from_delimited_files(path=[(datastore, 'movie_rating_data/ratings.csv')])"
      ],
      "outputs": [
        {
          "output_type": "stream",
          "name": "stdout",
          "text": "Uploading an estimated of 1 files\nUploading ratings.csv\nUploaded ratings.csv, 1 files out of an estimated total of 1\nUploaded 1 files\n"
        }
      ],
      "execution_count": 4,
      "metadata": {
        "jupyter": {
          "source_hidden": false,
          "outputs_hidden": false
        },
        "nteract": {
          "transient": {
            "deleting": false
          }
        },
        "gather": {
          "logged": 1634728941309
        }
      }
    },
    {
      "cell_type": "markdown",
      "source": [
        "Prepare the data and configure the model"
      ],
      "metadata": {
        "nteract": {
          "transient": {
            "deleting": false
          }
        }
      }
    },
    {
      "cell_type": "code",
      "source": [
        "from surprise import Dataset\r\n",
        "data = Dataset.load_from_df(ratings[['userId', 'movieId', 'rating']], reader)\r\n",
        "svd = SVD()\r\n",
        "cross_validate(svd, data, measures=['RMSE', 'MAE'], cv=5, verbose=True)"
      ],
      "outputs": [
        {
          "output_type": "stream",
          "name": "stdout",
          "text": "Evaluating RMSE, MAE of algorithm SVD on 5 split(s).\n\n                  Fold 1  Fold 2  Fold 3  Fold 4  Fold 5  Mean    Std     \nRMSE (testset)    0.8949  0.8983  0.8943  0.9057  0.8896  0.8966  0.0054  \nMAE (testset)     0.6912  0.6908  0.6864  0.6942  0.6888  0.6903  0.0026  \nFit time          5.28    5.36    5.29    5.31    5.30    5.31    0.03    \nTest time         0.22    0.20    0.21    0.19    0.33    0.23    0.05    \n"
        },
        {
          "output_type": "execute_result",
          "execution_count": 5,
          "data": {
            "text/plain": "{'test_rmse': array([0.89492927, 0.89833978, 0.89430233, 0.90573773, 0.88956423]),\n 'test_mae': array([0.69116724, 0.69079591, 0.68637034, 0.69424811, 0.68883862]),\n 'fit_time': (5.279882192611694,\n  5.355646848678589,\n  5.291794061660767,\n  5.314360857009888,\n  5.301142692565918),\n 'test_time': (0.2207350730895996,\n  0.2048029899597168,\n  0.21285653114318848,\n  0.193650484085083,\n  0.3318459987640381)}"
          },
          "metadata": {}
        }
      ],
      "execution_count": 5,
      "metadata": {
        "jupyter": {
          "source_hidden": false,
          "outputs_hidden": false
        },
        "nteract": {
          "transient": {
            "deleting": false
          }
        },
        "gather": {
          "logged": 1634728970395
        }
      }
    },
    {
      "cell_type": "markdown",
      "source": [
        "Train the model"
      ],
      "metadata": {
        "nteract": {
          "transient": {
            "deleting": false
          }
        }
      }
    },
    {
      "cell_type": "code",
      "source": [
        "# create training set \r\n",
        "trainset = data.build_full_trainset()\r\n",
        "\r\n",
        "# train the model\r\n",
        "with mlflow.start_run() as run:\r\n",
        "    svd.fit(trainset)\r\n",
        "\r\n",
        "#ratings[ratings['userId'] == 1]"
      ],
      "outputs": [],
      "execution_count": 6,
      "metadata": {
        "jupyter": {
          "source_hidden": false,
          "outputs_hidden": false
        },
        "nteract": {
          "transient": {
            "deleting": false
          }
        },
        "gather": {
          "logged": 1634729095620
        }
      }
    },
    {
      "cell_type": "markdown",
      "source": [
        "Setup environment & inference config for model deployment"
      ],
      "metadata": {
        "nteract": {
          "transient": {
            "deleting": false
          }
        }
      }
    },
    {
      "cell_type": "code",
      "source": [
        "# create environment for the deploy\r\n",
        "from azureml.core.environment import Environment\r\n",
        "from azureml.core.conda_dependencies import CondaDependencies\r\n",
        "from azureml.core.webservice import AciWebservice\r\n",
        "\r\n",
        "#create an environment\r\n",
        "\r\n",
        "from azureml.core.environment import Environment\r\n",
        "movies_env = Environment(name=\"movies_env\")\r\n",
        "\r\n",
        "conda_dep = CondaDependencies()\r\n",
        "\r\n",
        "# Installs numpy version 1.17.0 conda package\r\n",
        "conda_dep.add_conda_package(\"numpy==1.17.0\")\r\n",
        "\r\n",
        "# Installs surprise package\r\n",
        "conda_dep.add_pip_package(\"surprise\")\r\n",
        "\r\n",
        "\r\n",
        "# Adds dependencies to PythonSection of myenv\r\n",
        "movies_env.python.conda_dependencies=conda_dep\r\n",
        "\r\n",
        "movies_env.register(workspace=ws)\r\n"
      ],
      "outputs": [
        {
          "output_type": "execute_result",
          "execution_count": 11,
          "data": {
            "text/plain": "{\n    \"databricks\": {\n        \"eggLibraries\": [],\n        \"jarLibraries\": [],\n        \"mavenLibraries\": [],\n        \"pypiLibraries\": [],\n        \"rcranLibraries\": []\n    },\n    \"docker\": {\n        \"arguments\": [],\n        \"baseDockerfile\": null,\n        \"baseImage\": \"mcr.microsoft.com/azureml/openmpi3.1.2-ubuntu18.04:20210806.v1\",\n        \"baseImageRegistry\": {\n            \"address\": null,\n            \"password\": null,\n            \"registryIdentity\": null,\n            \"username\": null\n        },\n        \"enabled\": false,\n        \"platform\": {\n            \"architecture\": \"amd64\",\n            \"os\": \"Linux\"\n        },\n        \"sharedVolumes\": true,\n        \"shmSize\": null\n    },\n    \"environmentVariables\": {\n        \"EXAMPLE_ENV_VAR\": \"EXAMPLE_VALUE\"\n    },\n    \"inferencingStackVersion\": null,\n    \"name\": \"movies_env\",\n    \"python\": {\n        \"baseCondaEnvironment\": null,\n        \"condaDependencies\": {\n            \"channels\": [\n                \"anaconda\",\n                \"conda-forge\"\n            ],\n            \"dependencies\": [\n                \"python=3.6.2\",\n                {\n                    \"pip\": [\n                        \"azureml-defaults\",\n                        \"pillow\",\n                        \"surprise\"\n                    ]\n                },\n                \"numpy==1.17.0\"\n            ],\n            \"name\": \"azureml_206b3563cb4ed3c899f07bcd37cdb834\"\n        },\n        \"condaDependenciesFile\": null,\n        \"interpreterPath\": \"python\",\n        \"userManagedDependencies\": false\n    },\n    \"r\": null,\n    \"spark\": {\n        \"packages\": [],\n        \"precachePackages\": true,\n        \"repositories\": []\n    },\n    \"version\": \"1\"\n}"
          },
          "metadata": {}
        }
      ],
      "execution_count": 11,
      "metadata": {
        "jupyter": {
          "source_hidden": false,
          "outputs_hidden": false
        },
        "nteract": {
          "transient": {
            "deleting": false
          }
        },
        "gather": {
          "logged": 1634729176083
        }
      }
    },
    {
      "cell_type": "code",
      "source": [
        "from azureml.core import Environment\r\n",
        "from azureml.core.model import InferenceConfig\r\n",
        "\r\n",
        "inference_config = InferenceConfig(\r\n",
        "    environment=movies_env,\r\n",
        "    source_directory=\"./source_dir\",\r\n",
        "    entry_script=\"./score.py\",\r\n",
        ")"
      ],
      "outputs": [],
      "execution_count": 35,
      "metadata": {
        "jupyter": {
          "source_hidden": false,
          "outputs_hidden": false
        },
        "nteract": {
          "transient": {
            "deleting": false
          }
        },
        "gather": {
          "logged": 1634736474011
        }
      }
    },
    {
      "cell_type": "markdown",
      "source": [
        "Model dump and register"
      ],
      "metadata": {
        "nteract": {
          "transient": {
            "deleting": false
          }
        }
      }
    },
    {
      "cell_type": "code",
      "source": [
        "import joblib\r\n",
        "from azureml.core.model import Model\r\n",
        "\r\n",
        "joblib.dump(svd, filename=\"movie.pkl\")\r\n",
        "model = Model.register(workspace=ws, model_path=\"movie.pkl\", model_name=\"movie_model\")\r\n"
      ],
      "outputs": [
        {
          "output_type": "stream",
          "name": "stdout",
          "text": "Registering model movie_model\n"
        }
      ],
      "execution_count": 36,
      "metadata": {
        "jupyter": {
          "source_hidden": false,
          "outputs_hidden": false
        },
        "nteract": {
          "transient": {
            "deleting": false
          }
        },
        "gather": {
          "logged": 1634736481727
        }
      }
    },
    {
      "cell_type": "code",
      "source": [
        "svd.predict(1, 1061)"
      ],
      "outputs": [
        {
          "output_type": "execute_result",
          "execution_count": 37,
          "data": {
            "text/plain": "Prediction(uid=1, iid=1061, r_ui=None, est=2.618327449743631, details={'was_impossible': False})"
          },
          "metadata": {}
        }
      ],
      "execution_count": 37,
      "metadata": {
        "jupyter": {
          "source_hidden": false,
          "outputs_hidden": false
        },
        "nteract": {
          "transient": {
            "deleting": false
          }
        },
        "gather": {
          "logged": 1634736483299
        }
      }
    },
    {
      "cell_type": "markdown",
      "source": [
        "Container configuration"
      ],
      "metadata": {
        "nteract": {
          "transient": {
            "deleting": false
          }
        }
      }
    },
    {
      "cell_type": "code",
      "source": [
        "# create deployment config i.e. compute resources\r\n",
        "aciconfig = AciWebservice.deploy_configuration(\r\n",
        "    cpu_cores=1,\r\n",
        "    memory_gb=1,\r\n",
        "    tags={\"data\": \"ratings\", \"method\": \"svd\"},\r\n",
        "    description=\"Predict movie ratings with svd\",\r\n",
        ")"
      ],
      "outputs": [],
      "execution_count": 38,
      "metadata": {
        "jupyter": {
          "source_hidden": false,
          "outputs_hidden": false
        },
        "nteract": {
          "transient": {
            "deleting": false
          }
        },
        "gather": {
          "logged": 1634736485920
        }
      }
    },
    {
      "cell_type": "code",
      "source": [
        "service = Model.deploy(\r\n",
        "    ws,\r\n",
        "    \"movieservice2\",\r\n",
        "    [model],\r\n",
        "    inference_config,\r\n",
        "    deployment_config=aciconfig,\r\n",
        "    overwrite=True,\r\n",
        ")\r\n",
        "\r\n",
        "service.wait_for_deployment(show_output=True)"
      ],
      "outputs": [
        {
          "output_type": "stream",
          "name": "stdout",
          "text": "Tips: You can try get_logs(): https://aka.ms/debugimage#dockerlog or local deployment: https://aka.ms/debugimage#debug-locally to debug if deployment takes longer than 10 minutes.\nRunning\n2021-10-20 13:39:53+00:00 Creating Container Registry if not exists.\n2021-10-20 13:39:53+00:00 Registering the environment.\n2021-10-20 13:39:55+00:00 Use the existing image.\n2021-10-20 13:39:55+00:00 Generating deployment configuration.\n2021-10-20 13:39:55+00:00 Submitting deployment to compute..\n2021-10-20 13:39:59+00:00 Checking the status of deployment movieservice2..\n2021-10-20 13:46:12+00:00 Checking the status of inference endpoint movieservice2.\nSucceeded\nACI service creation operation finished, operation \"Succeeded\"\n"
        }
      ],
      "execution_count": 40,
      "metadata": {
        "jupyter": {
          "source_hidden": false,
          "outputs_hidden": false
        },
        "nteract": {
          "transient": {
            "deleting": false
          }
        },
        "gather": {
          "logged": 1634737574816
        }
      }
    },
    {
      "cell_type": "code",
      "source": [
        "print(service.get_logs())"
      ],
      "outputs": [
        {
          "output_type": "stream",
          "name": "stdout",
          "text": "2021-10-20T13:45:49,286896900+00:00 - gunicorn/run \nDynamic Python package installation is disabled.\nStarting HTTP server\n2021-10-20T13:45:49,285769100+00:00 - iot-server/run \n2021-10-20T13:45:49,306012100+00:00 - rsyslog/run \n2021-10-20T13:45:49,327915000+00:00 - nginx/run \nEdgeHubConnectionString and IOTEDGE_IOTHUBHOSTNAME are not set. Exiting...\n2021-10-20T13:45:49,625280600+00:00 - iot-server/finish 1 0\n2021-10-20T13:45:49,627234000+00:00 - Exit code 1 is normal. Not restarting iot-server.\nStarting gunicorn 20.1.0\nListening at: http://127.0.0.1:31311 (73)\nUsing worker: sync\nworker timeout is set to 300\nBooting worker with pid: 98\nSPARK_HOME not set. Skipping PySpark Initialization.\nInitializing logger\n2021-10-20 13:45:50,877 | root | INFO | Starting up app insights client\nlogging socket was found. logging is available.\nlogging socket was found. logging is available.\n2021-10-20 13:45:50,878 | root | INFO | Starting up request id generator\n2021-10-20 13:45:50,878 | root | INFO | Starting up app insight hooks\n2021-10-20 13:45:50,878 | root | INFO | Invoking user's init function\n2021-10-20 13:45:53,013 | root | INFO | Users's init has completed successfully\n2021-10-20 13:45:53,016 | root | INFO | Skipping middleware: dbg_model_info as it's not enabled.\n2021-10-20 13:45:53,016 | root | INFO | Skipping middleware: dbg_resource_usage as it's not enabled.\n2021-10-20 13:45:53,022 | root | INFO | Scoring timeout is found from os.environ: 60000 ms\n2021-10-20 13:46:12,665 | root | INFO | Swagger file not present\n2021-10-20 13:46:12,666 | root | INFO | 404\n127.0.0.1 - - [20/Oct/2021:13:46:12 +0000] \"GET /swagger.json HTTP/1.0\" 404 19 \"-\" \"Go-http-client/1.1\"\n2021-10-20 13:46:15,156 | root | INFO | Swagger file not present\n2021-10-20 13:46:15,156 | root | INFO | 404\n127.0.0.1 - - [20/Oct/2021:13:46:15 +0000] \"GET /swagger.json HTTP/1.0\" 404 19 \"-\" \"Go-http-client/1.1\"\n\n"
        }
      ],
      "execution_count": 41,
      "metadata": {
        "jupyter": {
          "source_hidden": false,
          "outputs_hidden": false
        },
        "nteract": {
          "transient": {
            "deleting": false
          }
        },
        "gather": {
          "logged": 1634737599799
        }
      }
    },
    {
      "cell_type": "code",
      "source": [
        "service"
      ],
      "outputs": [
        {
          "output_type": "execute_result",
          "execution_count": 45,
          "data": {
            "text/plain": "AciWebservice(workspace=Workspace.create(name='ml_workspace', subscription_id='1cca6153-5c74-48ed-b75f-acd01f2cff8c', resource_group='edaaccess'), name=movieservice2, image_id=None, compute_type=None, state=ACI, scoring_uri=Healthy, tags=http://61d5b46a-1a8b-4693-9698-6dd8856e398d.westeurope.azurecontainer.io/score, properties={'data': 'ratings', 'method': 'svd'}, created_by={'hasInferenceSchema': 'False', 'hasHttps': 'False'})"
          },
          "metadata": {}
        }
      ],
      "execution_count": 45,
      "metadata": {
        "jupyter": {
          "source_hidden": false,
          "outputs_hidden": false
        },
        "nteract": {
          "transient": {
            "deleting": false
          }
        },
        "gather": {
          "logged": 1634742271262
        }
      }
    },
    {
      "cell_type": "code",
      "source": [
        "import json\r\n",
        "\r\n",
        "\r\n",
        "input_payload = json.dumps({\r\n",
        "    'user_id': \"1\",\r\n",
        "    'movie_id': \"1029\"\r\n",
        "})\r\n",
        "\r\n",
        "output = service.run(input_payload)\r\n",
        "\r\n",
        "print(output)"
      ],
      "outputs": [
        {
          "output_type": "stream",
          "name": "stdout",
          "text": "[1, 1029, None, 2.9065018007190515, {'was_impossible': False}]\n"
        }
      ],
      "execution_count": 47,
      "metadata": {
        "jupyter": {
          "source_hidden": false,
          "outputs_hidden": false
        },
        "nteract": {
          "transient": {
            "deleting": false
          }
        },
        "gather": {
          "logged": 1634742396196
        }
      }
    },
    {
      "cell_type": "code",
      "source": [
        "input_payload"
      ],
      "outputs": [
        {
          "output_type": "execute_result",
          "execution_count": 48,
          "data": {
            "text/plain": "'{\"user_id\": \"1\", \"movie_id\": \"1029\"}'"
          },
          "metadata": {}
        }
      ],
      "execution_count": 48,
      "metadata": {
        "jupyter": {
          "source_hidden": false,
          "outputs_hidden": false
        },
        "nteract": {
          "transient": {
            "deleting": false
          }
        },
        "gather": {
          "logged": 1634742550235
        }
      }
    }
  ],
  "metadata": {
    "kernelspec": {
      "name": "python3-azureml",
      "language": "python",
      "display_name": "Python 3.6 - AzureML"
    },
    "language_info": {
      "name": "python",
      "version": "3.6.9",
      "mimetype": "text/x-python",
      "codemirror_mode": {
        "name": "ipython",
        "version": 3
      },
      "pygments_lexer": "ipython3",
      "nbconvert_exporter": "python",
      "file_extension": ".py"
    },
    "kernel_info": {
      "name": "python3-azureml"
    },
    "microsoft": {
      "host": {
        "AzureML": {
          "notebookHasBeenCompleted": true
        }
      }
    },
    "nteract": {
      "version": "nteract-front-end@1.0.0"
    }
  },
  "nbformat": 4,
  "nbformat_minor": 2
}